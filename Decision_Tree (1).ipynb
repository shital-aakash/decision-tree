{
  "nbformat": 4,
  "nbformat_minor": 0,
  "metadata": {
    "colab": {
      "provenance": []
    },
    "kernelspec": {
      "name": "python3",
      "display_name": "Python 3"
    },
    "language_info": {
      "name": "python"
    }
  },
  "cells": [
    {
      "cell_type": "markdown",
      "source": [
        "#Decision Tree (Theoretical)"
      ],
      "metadata": {
        "id": "89vVQDRQcu26"
      }
    },
    {
      "cell_type": "markdown",
      "source": [
        "1.What is a Decision Tree, and how does it work?\n",
        "     - A decision tree is a flowchart-like structure used in machine learning and decision analysis to model possible outcomes and decisions. It's a supervised learning algorithm that breaks down complex problems into a series of simpler decisions based on attributes or features. Each node in the tree represents a test or a decision, branches represent the possible outcomes of the test, and leaf nodes represent the final outcome or prediction."
      ],
      "metadata": {
        "id": "o77IS6uRc17y"
      }
    },
    {
      "cell_type": "code",
      "source": [
        "#What is a Decision Tree, and how does it work?\n",
        "'''\n",
        "A decision tree is a flowchart-like structure used in machine learning and decision analysis to model possible outcomes and decisions. It's a supervised learning algorithm that breaks down complex problems into a series of simpler decisions based on attributes or features. Each node in the tree represents a test or a decision, branches represent the possible outcomes of the test, and leaf nodes represent the final outcome or prediction.\n",
        "'''"
      ],
      "metadata": {
        "colab": {
          "base_uri": "https://localhost:8080/",
          "height": 90
        },
        "id": "pdC0sfYqc1o1",
        "outputId": "977a6270-eda0-4f53-a43b-0ac4fcadfb42"
      },
      "execution_count": null,
      "outputs": [
        {
          "output_type": "execute_result",
          "data": {
            "text/plain": [
              "\"\\nA decision tree is a flowchart-like structure used in machine learning and decision analysis to model possible outcomes and decisions. It's a supervised learning algorithm that breaks down complex problems into a series of simpler decisions based on attributes or features. Each node in the tree represents a test or a decision, branches represent the possible outcomes of the test, and leaf nodes represent the final outcome or prediction.\\n\""
            ],
            "application/vnd.google.colaboratory.intrinsic+json": {
              "type": "string"
            }
          },
          "metadata": {},
          "execution_count": 1
        }
      ]
    },
    {
      "cell_type": "markdown",
      "source": [
        "2.What are impurity measures in Decision Trees?\n",
        "    -  Impurity measures in decision trees quantify the homogeneity or homogeneity of the class labels within a node."
      ],
      "metadata": {
        "id": "xXVKl1c3dFAy"
      }
    },
    {
      "cell_type": "code",
      "source": [
        "#What are impurity measures in Decision Trees?\n",
        "'''\n",
        "Impurity measures in decision trees quantify the homogeneity or homogeneity of the class labels within a node.\n",
        "'''"
      ],
      "metadata": {
        "colab": {
          "base_uri": "https://localhost:8080/",
          "height": 36
        },
        "id": "GZcOVPlqc1kx",
        "outputId": "eb4c23fa-4f0f-48f1-f8a2-9c5e9b3dac3f"
      },
      "execution_count": null,
      "outputs": [
        {
          "output_type": "execute_result",
          "data": {
            "text/plain": [
              "'\\nImpurity measures in decision trees quantify the homogeneity or homogeneity of the class labels within a node. \\n'"
            ],
            "application/vnd.google.colaboratory.intrinsic+json": {
              "type": "string"
            }
          },
          "metadata": {},
          "execution_count": 3
        }
      ]
    },
    {
      "cell_type": "markdown",
      "source": [
        "3.What is the mathematical formula for Gini Impurity?\n",
        "    - The mathematical formula for Gini Impurity, for a node in a decision tree, is: Gini(D) = 1 - Σ [pᵢ²] where pᵢ is the proportion of the class i in the node's dataset."
      ],
      "metadata": {
        "id": "O-lhD4BNdUMw"
      }
    },
    {
      "cell_type": "code",
      "source": [
        "#What is the mathematical formula for Gini Impurity?\n",
        "'''\n",
        "The mathematical formula for Gini Impurity, for a node in a decision tree, is: Gini(D) = 1 - Σ [pᵢ²] where pᵢ is the proportion of the class i in the node's dataset.\n",
        "'''"
      ],
      "metadata": {
        "colab": {
          "base_uri": "https://localhost:8080/",
          "height": 54
        },
        "id": "CxKE_6M6c1iB",
        "outputId": "c664bcdd-2cce-4975-d8a4-702cfb699b4b"
      },
      "execution_count": null,
      "outputs": [
        {
          "output_type": "execute_result",
          "data": {
            "text/plain": [
              "\"\\nThe mathematical formula for Gini Impurity, for a node in a decision tree, is: Gini(D) = 1 - Σ [pᵢ²] where pᵢ is the proportion of the class i in the node's dataset. \\n\""
            ],
            "application/vnd.google.colaboratory.intrinsic+json": {
              "type": "string"
            }
          },
          "metadata": {},
          "execution_count": 4
        }
      ]
    },
    {
      "cell_type": "markdown",
      "source": [
        "4.What is the mathematical formula for Entropy?\n",
        "   - By the Clausius definition, if an amount of heat Q flows into a large heat reservoir at temperature T above absolute zero, then the entropy increase is ΔS = Q/T. This equation effectively gives an alternate definition of temperature that agrees with the usual definition."
      ],
      "metadata": {
        "id": "99xXftlhdfca"
      }
    },
    {
      "cell_type": "code",
      "source": [
        "#What is the mathematical formula for Entropy?\n",
        "'''\n",
        "By the Clausius definition, if an amount of heat Q flows into a large heat reservoir at temperature T above absolute zero, then the entropy increase is ΔS = Q/T. This equation effectively gives an alternate definition of temperature that agrees with the usual definition.\n",
        "'''"
      ],
      "metadata": {
        "colab": {
          "base_uri": "https://localhost:8080/",
          "height": 72
        },
        "id": "ArPNfPhEc1gC",
        "outputId": "a37e107d-66f2-49d7-f48b-490faef3f3a5"
      },
      "execution_count": null,
      "outputs": [
        {
          "output_type": "execute_result",
          "data": {
            "text/plain": [
              "'\\nBy the Clausius definition, if an amount of heat Q flows into a large heat reservoir at temperature T above absolute zero, then the entropy increase is ΔS = Q/T. This equation effectively gives an alternate definition of temperature that agrees with the usual definition.\\n'"
            ],
            "application/vnd.google.colaboratory.intrinsic+json": {
              "type": "string"
            }
          },
          "metadata": {},
          "execution_count": 5
        }
      ]
    },
    {
      "cell_type": "markdown",
      "source": [
        "5.What is Information Gain, and how is it used in Decision Trees?\n",
        "    - Information Gain is a crucial concept in decision tree algorithms. It quantifies how much a particular feature reduces uncertainty (or entropy) when used to split the data. Features with higher information gain are considered more effective at creating purer, more predictable subsets of data, making them better candidates for splitting nodes in the decision tree."
      ],
      "metadata": {
        "id": "lKzjApHddq6n"
      }
    },
    {
      "cell_type": "code",
      "source": [
        "#What is Information Gain, and how is it used in Decision Trees\t?\n",
        "'''\n",
        "Information Gain is a crucial concept in decision tree algorithms. It quantifies how much a particular feature reduces uncertainty (or entropy) when used to split the data. Features with higher information gain are considered more effective at creating purer, more predictable subsets of data, making them better candidates for splitting nodes in the decision tree.\n",
        "'''"
      ],
      "metadata": {
        "colab": {
          "base_uri": "https://localhost:8080/",
          "height": 90
        },
        "id": "FJbAxi5Gc1dh",
        "outputId": "1867ca06-c8ed-4f9c-b48b-2927cda6280e"
      },
      "execution_count": null,
      "outputs": [
        {
          "output_type": "execute_result",
          "data": {
            "text/plain": [
              "'\\nInformation Gain is a crucial concept in decision tree algorithms. It quantifies how much a particular feature reduces uncertainty (or entropy) when used to split the data. Features with higher information gain are considered more effective at creating purer, more predictable subsets of data, making them better candidates for splitting nodes in the decision tree. \\n'"
            ],
            "application/vnd.google.colaboratory.intrinsic+json": {
              "type": "string"
            }
          },
          "metadata": {},
          "execution_count": 6
        }
      ]
    },
    {
      "cell_type": "markdown",
      "source": [
        "6.What is the difference between Gini Impurity and Entropy?\n",
        "    - Gini impurity is generally faster to compute and prefers splits that isolate the most frequent class, whereas entropy can create more balanced trees and involves logarithmic calculations which can be more computationally expensive."
      ],
      "metadata": {
        "id": "6QcSf_QBd08_"
      }
    },
    {
      "cell_type": "code",
      "source": [
        "#What is the difference between Gini Impurity and Entropy?\n",
        "'''\n",
        "Gini impurity is generally faster to compute and prefers splits that isolate the most frequent class, whereas entropy can create more balanced trees and involves logarithmic calculations which can be more computationally expensive.\n",
        "'''"
      ],
      "metadata": {
        "colab": {
          "base_uri": "https://localhost:8080/",
          "height": 54
        },
        "id": "Y212IJGUc1YJ",
        "outputId": "85d3da49-7c95-4517-ab4e-befb18f692fd"
      },
      "execution_count": null,
      "outputs": [
        {
          "output_type": "execute_result",
          "data": {
            "text/plain": [
              "'\\nGini impurity is generally faster to compute and prefers splits that isolate the most frequent class, whereas entropy can create more balanced trees and involves logarithmic calculations which can be more computationally expensive. \\n'"
            ],
            "application/vnd.google.colaboratory.intrinsic+json": {
              "type": "string"
            }
          },
          "metadata": {},
          "execution_count": 7
        }
      ]
    },
    {
      "cell_type": "markdown",
      "source": [
        "7.What is the mathematical explanation behind Decision Trees?\n",
        "   - Decision trees are built using mathematical concepts like information gain, Gini index, and entropy to determine the best way to split data and classify or predict outcomes. These measures help identify the most informative features for creating decision rules and ultimately building the tree structure."
      ],
      "metadata": {
        "id": "3wleLxuTd_Xm"
      }
    },
    {
      "cell_type": "code",
      "source": [
        "#What is the mathematical explanation behind Decision Trees?\n",
        "'''\n",
        "Decision trees are built using mathematical concepts like information gain, Gini index, and entropy to determine the best way to split data and classify or predict outcomes. These measures help identify the most informative features for creating decision rules and ultimately building the tree structure.\n",
        "'''"
      ],
      "metadata": {
        "colab": {
          "base_uri": "https://localhost:8080/",
          "height": 72
        },
        "id": "_1_uJfc5c1Vh",
        "outputId": "02a9aa2b-2aa7-4292-815d-c252edbac234"
      },
      "execution_count": null,
      "outputs": [
        {
          "output_type": "execute_result",
          "data": {
            "text/plain": [
              "'\\nDecision trees are built using mathematical concepts like information gain, Gini index, and entropy to determine the best way to split data and classify or predict outcomes. These measures help identify the most informative features for creating decision rules and ultimately building the tree structure. \\n'"
            ],
            "application/vnd.google.colaboratory.intrinsic+json": {
              "type": "string"
            }
          },
          "metadata": {},
          "execution_count": 8
        }
      ]
    },
    {
      "cell_type": "markdown",
      "source": [
        "8.What is Pre-Pruning in Decision Trees?\n",
        "    - Pre-pruning, also known as early stopping, is a method used in decision tree algorithms to prevent overfitting by limiting the growth of the tree before it reaches its full complexity."
      ],
      "metadata": {
        "id": "--HDv5Kqc0WJ"
      }
    },
    {
      "cell_type": "code",
      "execution_count": null,
      "metadata": {
        "colab": {
          "base_uri": "https://localhost:8080/",
          "height": 54
        },
        "id": "5BzWVkLLcqbR",
        "outputId": "5edcf5b0-58a3-4262-d925-520163d33c1a"
      },
      "outputs": [
        {
          "output_type": "execute_result",
          "data": {
            "text/plain": [
              "'\\nPre-pruning, also known as early stopping, is a method used in decision tree algorithms to prevent overfitting by limiting the growth of the tree before it reaches its full complexity. \\n'"
            ],
            "application/vnd.google.colaboratory.intrinsic+json": {
              "type": "string"
            }
          },
          "metadata": {},
          "execution_count": 9
        }
      ],
      "source": [
        "#What is Pre-Pruning in Decision Trees?\n",
        "'''\n",
        "Pre-pruning, also known as early stopping, is a method used in decision tree algorithms to prevent overfitting by limiting the growth of the tree before it reaches its full complexity.\n",
        "'''"
      ]
    },
    {
      "cell_type": "markdown",
      "source": [
        "9.What is Post-Pruning in Decision Trees?\n",
        "    - Post-pruning in decision trees involves removing branches from a fully grown tree to improve generalization and reduce overfitting."
      ],
      "metadata": {
        "id": "WUw8pAT1eTuN"
      }
    },
    {
      "cell_type": "code",
      "source": [
        "#What is Post-Pruning in Decision Trees?\n",
        "'''\n",
        "Post-pruning in decision trees involves removing branches from a fully grown tree to improve generalization and reduce overfitting.\n",
        "'''"
      ],
      "metadata": {
        "colab": {
          "base_uri": "https://localhost:8080/",
          "height": 54
        },
        "id": "ScNetFZzeTbx",
        "outputId": "0187cb91-6092-4c0c-9ac0-ef898fb5e747"
      },
      "execution_count": null,
      "outputs": [
        {
          "output_type": "execute_result",
          "data": {
            "text/plain": [
              "'\\nPost-pruning in decision trees involves removing branches from a fully grown tree to improve generalization and reduce overfitting. \\n'"
            ],
            "application/vnd.google.colaboratory.intrinsic+json": {
              "type": "string"
            }
          },
          "metadata": {},
          "execution_count": 10
        }
      ]
    },
    {
      "cell_type": "markdown",
      "source": [
        "10.What is the difference between Pre-Pruning and Post-Pruning?\n",
        "    - Pre-pruning and post-pruning are techniques used to simplify decision trees and prevent overfitting. Pre-pruning stops the tree's growth early, while post-pruning removes branches from a fully grown tree. Pre-pruning is like setting a maximum depth or minimum node size during construction. Post-pruning is like pruning a fully grown tree by removing branches that don't improve performance."
      ],
      "metadata": {
        "id": "aQfwY3iBeeDd"
      }
    },
    {
      "cell_type": "code",
      "source": [
        "#What is the difference between Pre-Pruning and Post-Pruning?\n",
        "'''\n",
        "Pre-pruning and post-pruning are techniques used to simplify decision trees and prevent overfitting. Pre-pruning stops the tree's growth early, while post-pruning removes branches from a fully grown tree. Pre-pruning is like setting a maximum depth or minimum node size during construction. Post-pruning is like pruning a fully grown tree by removing branches that don't improve performance.\n",
        "'''"
      ],
      "metadata": {
        "colab": {
          "base_uri": "https://localhost:8080/",
          "height": 90
        },
        "id": "eUAcZvROeTZf",
        "outputId": "f5e4064d-adcc-4543-8989-a34a8f8b4d14"
      },
      "execution_count": null,
      "outputs": [
        {
          "output_type": "execute_result",
          "data": {
            "text/plain": [
              "\"\\nPre-pruning and post-pruning are techniques used to simplify decision trees and prevent overfitting. Pre-pruning stops the tree's growth early, while post-pruning removes branches from a fully grown tree. Pre-pruning is like setting a maximum depth or minimum node size during construction. Post-pruning is like pruning a fully grown tree by removing branches that don't improve performance. \\n\""
            ],
            "application/vnd.google.colaboratory.intrinsic+json": {
              "type": "string"
            }
          },
          "metadata": {},
          "execution_count": 11
        }
      ]
    },
    {
      "cell_type": "markdown",
      "source": [
        "11.What is a Decision Tree Regressor?\n",
        "   - A Decision Tree Regressor is a machine learning algorithm that uses a tree-like model to predict continuous numerical values, unlike classification which predicts categorical values."
      ],
      "metadata": {
        "id": "zBLP5lNxeqlE"
      }
    },
    {
      "cell_type": "code",
      "source": [
        "#What is a Decision Tree Regressor?\n",
        "'''\n",
        "A Decision Tree Regressor is a machine learning algorithm that uses a tree-like model to predict continuous numerical values, unlike classification which predicts categorical values.\n",
        "'''"
      ],
      "metadata": {
        "colab": {
          "base_uri": "https://localhost:8080/",
          "height": 54
        },
        "id": "fxz32XG_eTXa",
        "outputId": "56eb800a-e2a9-45b6-f2b8-7ac88a8c3342"
      },
      "execution_count": null,
      "outputs": [
        {
          "output_type": "execute_result",
          "data": {
            "text/plain": [
              "'\\nA Decision Tree Regressor is a machine learning algorithm that uses a tree-like model to predict continuous numerical values, unlike classification which predicts categorical values. \\n'"
            ],
            "application/vnd.google.colaboratory.intrinsic+json": {
              "type": "string"
            }
          },
          "metadata": {},
          "execution_count": 12
        }
      ]
    },
    {
      "cell_type": "markdown",
      "source": [
        "12.What are the advantages and disadvantages of Decision Trees?\n",
        "    - Decision trees offer both advantages and disadvantages in machine learning. Advantages include ease of understanding and interpretation, minimal data preparation, handling of missing values, and the ability to model non-linear relationships. Disadvantages include the risk of overfitting, instability, and potential bias towards features with many levels."
      ],
      "metadata": {
        "id": "kUntkUYVe0j8"
      }
    },
    {
      "cell_type": "code",
      "source": [
        "#What are the advantages and disadvantages of Decision Trees?\n",
        "'''\n",
        "Decision trees offer both advantages and disadvantages in machine learning. Advantages include ease of understanding and interpretation, minimal data preparation, handling of missing values, and the ability to model non-linear relationships. Disadvantages include the risk of overfitting, instability, and potential bias towards features with many levels.\n",
        "'''"
      ],
      "metadata": {
        "colab": {
          "base_uri": "https://localhost:8080/",
          "height": 90
        },
        "id": "hQow-wHDeTVl",
        "outputId": "263433a2-3ac8-4c1f-e98a-26090304d2ca"
      },
      "execution_count": null,
      "outputs": [
        {
          "output_type": "execute_result",
          "data": {
            "text/plain": [
              "'\\nDecision trees offer both advantages and disadvantages in machine learning. Advantages include ease of understanding and interpretation, minimal data preparation, handling of missing values, and the ability to model non-linear relationships. Disadvantages include the risk of overfitting, instability, and potential bias towards features with many levels. \\n'"
            ],
            "application/vnd.google.colaboratory.intrinsic+json": {
              "type": "string"
            }
          },
          "metadata": {},
          "execution_count": 13
        }
      ]
    },
    {
      "cell_type": "markdown",
      "source": [
        "13.How does a Decision Tree handle missing values?\n",
        "   - To handle missing values effectively, decision trees use surrogate splits."
      ],
      "metadata": {
        "id": "bAHSutJCe8rr"
      }
    },
    {
      "cell_type": "code",
      "source": [
        "#How does a Decision Tree handle missing values?\n",
        "'''\n",
        "To handle missing values effectively, decision trees use surrogate splits.\n",
        "'''"
      ],
      "metadata": {
        "colab": {
          "base_uri": "https://localhost:8080/",
          "height": 36
        },
        "id": "Ty18IsfVeTS5",
        "outputId": "115f1451-bff9-493c-de63-41474f6b130b"
      },
      "execution_count": null,
      "outputs": [
        {
          "output_type": "execute_result",
          "data": {
            "text/plain": [
              "'\\nTo handle missing values effectively, decision trees use surrogate splits.\\n'"
            ],
            "application/vnd.google.colaboratory.intrinsic+json": {
              "type": "string"
            }
          },
          "metadata": {},
          "execution_count": 14
        }
      ]
    },
    {
      "cell_type": "markdown",
      "source": [
        "14.How does a Decision Tree handle categorical features?\n",
        "   - Decision trees handle categorical features by evaluating all possible ways to split the categories into two groups at each node. The split that results in the highest quality (e.g., lowest Gini impurity or highest information gain) is chosen. This effectively treats categorical features by creating binary partitions based on the categories' membership."
      ],
      "metadata": {
        "id": "QRe4PshbfGhT"
      }
    },
    {
      "cell_type": "code",
      "source": [
        "#How does a Decision Tree handle categorical features?\n",
        "'''\n",
        "Decision trees handle categorical features by evaluating all possible ways to split the categories into two groups at each node. The split that results in the highest quality (e.g., lowest Gini impurity or highest information gain) is chosen. This effectively treats categorical features by creating binary partitions based on the categories' membership.\n",
        "'''"
      ],
      "metadata": {
        "colab": {
          "base_uri": "https://localhost:8080/",
          "height": 90
        },
        "id": "3XOjTFBFeTPj",
        "outputId": "04b4a6b2-e5ee-4265-9cba-c3d173114760"
      },
      "execution_count": null,
      "outputs": [
        {
          "output_type": "execute_result",
          "data": {
            "text/plain": [
              "\"\\nDecision trees handle categorical features by evaluating all possible ways to split the categories into two groups at each node. The split that results in the highest quality (e.g., lowest Gini impurity or highest information gain) is chosen. This effectively treats categorical features by creating binary partitions based on the categories' membership. \\n\""
            ],
            "application/vnd.google.colaboratory.intrinsic+json": {
              "type": "string"
            }
          },
          "metadata": {},
          "execution_count": 15
        }
      ]
    },
    {
      "cell_type": "markdown",
      "source": [
        "15.What are some real-world applications of Decision Trees?\n",
        "   - Decision trees have diverse real-world applications, including customer segmentation, fraud detection, medical diagnosis, and risk assessment in finance."
      ],
      "metadata": {
        "id": "jejHmLlcfWdi"
      }
    },
    {
      "cell_type": "code",
      "source": [
        "#What are some real-world applications of Decision Trees?\n",
        "'''\n",
        "Decision trees have diverse real-world applications, including customer segmentation, fraud detection, medical diagnosis, and risk assessment in finance.\n",
        "'''"
      ],
      "metadata": {
        "colab": {
          "base_uri": "https://localhost:8080/",
          "height": 54
        },
        "id": "cuwhdYhMeTNl",
        "outputId": "f42fbeb8-5549-45d0-a9e4-125e07e698be"
      },
      "execution_count": null,
      "outputs": [
        {
          "output_type": "execute_result",
          "data": {
            "text/plain": [
              "'\\nDecision trees have diverse real-world applications, including customer segmentation, fraud detection, medical diagnosis, and risk assessment in finance. \\n'"
            ],
            "application/vnd.google.colaboratory.intrinsic+json": {
              "type": "string"
            }
          },
          "metadata": {},
          "execution_count": 16
        }
      ]
    },
    {
      "cell_type": "markdown",
      "source": [
        "#Decision Tree (Practical)"
      ],
      "metadata": {
        "id": "CMumHaa8fh8i"
      }
    },
    {
      "cell_type": "markdown",
      "source": [
        "16.Write a Python program to train a Decision Tree Classifier on the Iris dataset and print the model accuracy."
      ],
      "metadata": {
        "id": "I0fK4QUifmMJ"
      }
    },
    {
      "cell_type": "code",
      "source": [
        "#code\n",
        "from sklearn.datasets import load_iris\n",
        "from sklearn.tree import DecisionTreeClassifier\n",
        "from sklearn.model_selection import train_test_split\n",
        "from sklearn.metrics import accuracy_score\n",
        "iris = load_iris()\n",
        "X = iris.data\n",
        "y = iris.target\n",
        "X_train, X_test, y_train, y_test = train_test_split(X, y, test_size=0.2, random_state=42)\n",
        "dt_classifier = DecisionTreeClassifier(random_state=42)\n",
        "dt_classifier.fit(X_train, y_train)\n",
        "y_pred = dt_classifier.predict(X_test)\n",
        "accuracy = accuracy_score(y_test, y_pred)\n",
        "print(f\"Decision Tree Classifier Accuracy: {accuracy:.4f}\")"
      ],
      "metadata": {
        "colab": {
          "base_uri": "https://localhost:8080/"
        },
        "id": "ue7dJ2C4eTK-",
        "outputId": "3f26c6a1-f1b1-4c72-f18c-2bf26260a17d"
      },
      "execution_count": null,
      "outputs": [
        {
          "output_type": "stream",
          "name": "stdout",
          "text": [
            "Decision Tree Classifier Accuracy: 1.0000\n"
          ]
        }
      ]
    },
    {
      "cell_type": "markdown",
      "source": [
        "2.Write a Python program to train a Decision Tree Classifier using Gini Impurity as the criterion and print the\n",
        "feature importances."
      ],
      "metadata": {
        "id": "SODBuFEqfy_R"
      }
    },
    {
      "cell_type": "code",
      "source": [
        "#code\n",
        "from sklearn.tree import DecisionTreeClassifier\n",
        "from sklearn.datasets import load_iris\n",
        "from sklearn.model_selection import train_test_split\n",
        "iris = load_iris()\n",
        "X = iris.data\n",
        "y = iris.target\n",
        "feature_names = iris.feature_names\n",
        "X_train, X_test, y_train, y_test = train_test_split(X, y, test_size=0.3, random_state=42)\n",
        "clf = DecisionTreeClassifier(criterion=\"gini\", random_state=42)\n",
        "clf.fit(X_train, y_train)\n",
        "feature_importances = clf.feature_importances_\n",
        "print(\"Feature Importances:\")\n",
        "for i, importance in enumerate(feature_importances):\n",
        "    print(f\"{feature_names[i]}: {importance:.4f}\")"
      ],
      "metadata": {
        "colab": {
          "base_uri": "https://localhost:8080/"
        },
        "id": "LLmV84eUeTHV",
        "outputId": "cc0efbd9-50ca-4024-ae12-6b8c5bfd45e3"
      },
      "execution_count": null,
      "outputs": [
        {
          "output_type": "stream",
          "name": "stdout",
          "text": [
            "Feature Importances:\n",
            "sepal length (cm): 0.0000\n",
            "sepal width (cm): 0.0191\n",
            "petal length (cm): 0.8933\n",
            "petal width (cm): 0.0876\n"
          ]
        }
      ]
    },
    {
      "cell_type": "markdown",
      "source": [
        "18.Write a Python program to train a Decision Tree Classifier using Entropy as the splitting criterion and print the model accuracy."
      ],
      "metadata": {
        "id": "7o7UcG81gAZg"
      }
    },
    {
      "cell_type": "code",
      "source": [
        "#code\n",
        "from sklearn.tree import DecisionTreeClassifier\n",
        "from sklearn.model_selection import train_test_split\n",
        "from sklearn.metrics import accuracy_score\n",
        "import numpy as np\n",
        "np.random.seed(42)\n",
        "X = np.random.rand(100, 5)\n",
        "y = np.random.randint(0, 2, 100)\n",
        "X_train, X_test, y_train, y_test = train_test_split(X, y, test_size=0.2, random_state=42)\n",
        "model = DecisionTreeClassifier(criterion=\"entropy\", random_state=42)\n",
        "model.fit(X_train, y_train)\n",
        "y_pred = model.predict(X_test)\n",
        "accuracy = accuracy_score(y_test, y_pred)\n",
        "print(f\"Accuracy: {accuracy}\")"
      ],
      "metadata": {
        "colab": {
          "base_uri": "https://localhost:8080/"
        },
        "id": "y0NAezWGeTDW",
        "outputId": "6a876bc5-d3f0-4e4b-e81a-b27f6781cf7a"
      },
      "execution_count": null,
      "outputs": [
        {
          "output_type": "stream",
          "name": "stdout",
          "text": [
            "Accuracy: 0.6\n"
          ]
        }
      ]
    },
    {
      "cell_type": "markdown",
      "source": [
        "19.Write a Python program to train a Decision Tree Regressor on a housing dataset and evaluate using Mean\n",
        "Squared Error (MSE)."
      ],
      "metadata": {
        "id": "4Y9b_oSqghmQ"
      }
    },
    {
      "cell_type": "code",
      "source": [
        "#code\n",
        "import pandas as pd\n",
        "from sklearn.tree import DecisionTreeRegressor\n",
        "from sklearn.model_selection import train_test_split\n",
        "from sklearn.metrics import mean_squared_error\n",
        "from sklearn.datasets import fetch_california_housing\n",
        "housing = fetch_california_housing()\n",
        "X = pd.DataFrame(housing.data, columns=housing.feature_names)\n",
        "y = pd.Series(housing.target, name=\"MedianHouseValue\")\n",
        "X_train, X_test, y_train, y_test = train_test_split(X, y, test_size=0.2, random_state=42)\n",
        "regressor = DecisionTreeRegressor(random_state=42)\n",
        "regressor.fit(X_train, y_train)\n",
        "y_pred = regressor.predict(X_test)\n",
        "mse = mean_squared_error(y_test, y_pred)\n",
        "print(f\"Mean Squared Error (MSE): {mse:.2f}\")\n",
        "results_df = pd.DataFrame({'Actual': y_test, 'Predicted': y_pred})\n",
        "print(\"\\nSample of Actual vs. Predicted Values:\")\n",
        "print(results_df.head())"
      ],
      "metadata": {
        "colab": {
          "base_uri": "https://localhost:8080/"
        },
        "id": "blFk0K3peTA-",
        "outputId": "0faad870-1dd8-4193-a97d-1954b8f5079d"
      },
      "execution_count": null,
      "outputs": [
        {
          "output_type": "stream",
          "name": "stdout",
          "text": [
            "Mean Squared Error (MSE): 0.50\n",
            "\n",
            "Sample of Actual vs. Predicted Values:\n",
            "        Actual  Predicted\n",
            "20046  0.47700    0.41400\n",
            "3024   0.45800    1.20300\n",
            "15663  5.00001    5.00001\n",
            "20484  2.18600    2.17000\n",
            "9814   2.78000    2.25700\n"
          ]
        }
      ]
    },
    {
      "cell_type": "markdown",
      "source": [
        "20.Write a Python program to train a Decision Tree Classifier and visualize the tree using graphviz."
      ],
      "metadata": {
        "id": "bc4xpSkyhLeO"
      }
    },
    {
      "cell_type": "code",
      "source": [
        "#code\n",
        "import graphviz\n",
        "from sklearn.datasets import load_iris\n",
        "from sklearn.tree import DecisionTreeClassifier, export_graphviz\n",
        "iris = load_iris()\n",
        "X, y = iris.data, iris.target\n",
        "clf = DecisionTreeClassifier(max_depth=3, random_state=42)\n",
        "clf.fit(X, y)\n",
        "dot_data = export_graphviz(clf,\n",
        "                           out_file=None,\n",
        "                           feature_names=iris.feature_names,\n",
        "                           class_names=iris.target_names,\n",
        "                           filled=True,\n",
        "                           rounded=True,\n",
        "                           special_characters=True)\n",
        "graph = graphviz.Source(dot_data)\n",
        "graph.render(\"decision_tree_iris\", format=\"png\", view=True)"
      ],
      "metadata": {
        "colab": {
          "base_uri": "https://localhost:8080/",
          "height": 36
        },
        "id": "x1nvmIw1hNoH",
        "outputId": "2bfce610-1dc3-4dd0-c8d3-21d75e7d800f"
      },
      "execution_count": null,
      "outputs": [
        {
          "output_type": "execute_result",
          "data": {
            "text/plain": [
              "'decision_tree_iris.png'"
            ],
            "application/vnd.google.colaboratory.intrinsic+json": {
              "type": "string"
            }
          },
          "metadata": {},
          "execution_count": 21
        }
      ]
    },
    {
      "cell_type": "markdown",
      "source": [
        "21.Write a Python program to train a Decision Tree Classifier with a maximum depth of 3 and compare its\n",
        "accuracy with a fully grown tree."
      ],
      "metadata": {
        "id": "CeEfseOlhWG-"
      }
    },
    {
      "cell_type": "code",
      "source": [
        "#code\n",
        "from sklearn.tree import DecisionTreeClassifier\n",
        "from sklearn.model_selection import train_test_split\n",
        "from sklearn.datasets import load_iris\n",
        "from sklearn.metrics import accuracy_score\n",
        "iris = load_iris()\n",
        "X = iris.data\n",
        "y = iris.target\n",
        "X_train, X_test, y_train, y_test = train_test_split(X, y, test_size=0.3, random_state=42)\n",
        "model_3 = DecisionTreeClassifier(max_depth=3, random_state=42)\n",
        "model_3.fit(X_train, y_train)\n",
        "y_pred_3 = model_3.predict(X_test)\n",
        "accuracy_3 = accuracy_score(y_test, y_pred_3)\n",
        "model_full = DecisionTreeClassifier(random_state=42)\n",
        "model_full.fit(X_train, y_train)\n",
        "y_pred_full = model_full.predict(X_test)\n",
        "accuracy_full = accuracy_score(y_test, y_pred_full)\n",
        "print(f\"Accuracy of Decision Tree with max_depth=3: {accuracy_3:.4f}\")\n",
        "print(f\"Accuracy of fully grown Decision Tree: {accuracy_full:.4f}\")"
      ],
      "metadata": {
        "colab": {
          "base_uri": "https://localhost:8080/"
        },
        "id": "WrZLjktThV9U",
        "outputId": "b6161bc7-c782-4c63-c473-3175a017abb7"
      },
      "execution_count": null,
      "outputs": [
        {
          "output_type": "stream",
          "name": "stdout",
          "text": [
            "Accuracy of Decision Tree with max_depth=3: 1.0000\n",
            "Accuracy of fully grown Decision Tree: 1.0000\n"
          ]
        }
      ]
    },
    {
      "cell_type": "markdown",
      "source": [
        "22.Write a Python program to train a Decision Tree Classifier using min_samples_split=5 and compare its\n",
        "accuracy with a default tree."
      ],
      "metadata": {
        "id": "6nRyIzSthhEE"
      }
    },
    {
      "cell_type": "code",
      "source": [
        "#code\n",
        "import pandas as pd\n",
        "from sklearn.tree import DecisionTreeClassifier\n",
        "from sklearn.model_selection import train_test_split\n",
        "from sklearn import metrics\n",
        "from sklearn.datasets import load_iris\n",
        "iris = load_iris()\n",
        "X = pd.DataFrame(iris.data, columns=iris.feature_names)\n",
        "y = iris.target\n",
        "X_train, X_test, y_train, y_test = train_test_split(X, y, test_size=0.3, random_state=42)\n",
        "clf_default = DecisionTreeClassifier(random_state=42)\n",
        "clf_default.fit(X_train, y_train)\n",
        "y_pred_default = clf_default.predict(X_test)\n",
        "accuracy_default = metrics.accuracy_score(y_test, y_pred_default)\n",
        "print(f\"Accuracy of Default Decision Tree: {accuracy_default:.4f}\")\n",
        "clf_custom = DecisionTreeClassifier(min_samples_split=5, random_state=42)\n",
        "clf_custom.fit(X_train, y_train)\n",
        "y_pred_custom = clf_custom.predict(X_test)\n",
        "accuracy_custom = metrics.accuracy_score(y_test, y_pred_custom)\n",
        "print(f\"Accuracy of Decision Tree with min_samples_split=5: {accuracy_custom:.4f}\")\n",
        "if accuracy_custom > accuracy_default:\n",
        "    print(\"\\nThe Decision Tree with min_samples_split=5 performed better.\")\n",
        "elif accuracy_custom < accuracy_default:\n",
        "    print(\"\\nThe Default Decision Tree performed better.\")\n",
        "else:\n",
        "    print(\"\\nBoth Decision Trees achieved the same accuracy.\")"
      ],
      "metadata": {
        "colab": {
          "base_uri": "https://localhost:8080/"
        },
        "id": "3GVChfgwhNl9",
        "outputId": "99f66afc-e8c1-45bf-f284-57896f5164fa"
      },
      "execution_count": null,
      "outputs": [
        {
          "output_type": "stream",
          "name": "stdout",
          "text": [
            "Accuracy of Default Decision Tree: 1.0000\n",
            "Accuracy of Decision Tree with min_samples_split=5: 1.0000\n",
            "\n",
            "Both Decision Trees achieved the same accuracy.\n"
          ]
        }
      ]
    },
    {
      "cell_type": "markdown",
      "source": [
        "23.Write a Python program to apply feature scaling before training a Decision Tree Classifier and compare its\n",
        "accuracy with unscaled data."
      ],
      "metadata": {
        "id": "65yfAyJghsBb"
      }
    },
    {
      "cell_type": "code",
      "source": [
        "#code\n",
        "import pandas as pd\n",
        "from sklearn.datasets import load_iris\n",
        "from sklearn.model_selection import train_test_split\n",
        "from sklearn.preprocessing import StandardScaler\n",
        "from sklearn.tree import DecisionTreeClassifier\n",
        "from sklearn.metrics import accuracy_score\n",
        "iris = load_iris()\n",
        "X = iris.data\n",
        "y = iris.target\n",
        "X_train, X_test, y_train, y_test = train_test_split(X, y, test_size=0.3, random_state=42)\n",
        "dt_unscaled = DecisionTreeClassifier(random_state=42)\n",
        "dt_unscaled.fit(X_train, y_train)\n",
        "y_pred_unscaled = dt_unscaled.predict(X_test)\n",
        "accuracy_unscaled = accuracy_score(y_test, y_pred_unscaled)\n",
        "print(f\"Accuracy of Decision Tree on unscaled data: {accuracy_unscaled:.4f}\")\n",
        "scaler = StandardScaler()\n",
        "X_train_scaled = scaler.fit_transform(X_train)\n",
        "X_test_scaled = scaler.transform(X_test)\n",
        "dt_scaled = DecisionTreeClassifier(random_state=42)\n",
        "dt_scaled.fit(X_train_scaled, y_train)\n",
        "y_pred_scaled = dt_scaled.predict(X_test_scaled)\n",
        "accuracy_scaled = accuracy_score(y_test, y_pred_scaled)\n",
        "print(f\"Accuracy of Decision Tree on scaled data: {accuracy_scaled:.4f}\")\n",
        "if accuracy_scaled == accuracy_unscaled:\n",
        "    print(\"\\nAs expected, feature scaling did not significantly impact the Decision Tree's accuracy.\")\n",
        "else:\n",
        "    print(\"\\nFeature scaling had an unexpected impact on Decision Tree accuracy. This might indicate specific data characteristics or hyperparameter settings.\")"
      ],
      "metadata": {
        "colab": {
          "base_uri": "https://localhost:8080/"
        },
        "id": "EmYXO8PRhNer",
        "outputId": "41b40441-e804-40ad-d81c-e9d36e37be95"
      },
      "execution_count": null,
      "outputs": [
        {
          "output_type": "stream",
          "name": "stdout",
          "text": [
            "Accuracy of Decision Tree on unscaled data: 1.0000\n",
            "Accuracy of Decision Tree on scaled data: 1.0000\n",
            "\n",
            "As expected, feature scaling did not significantly impact the Decision Tree's accuracy.\n"
          ]
        }
      ]
    },
    {
      "cell_type": "markdown",
      "source": [
        "24.Write a Python program to train a Decision Tree Classifier using One-vs-Rest (OvR) strategy for multiclass\n",
        "classification."
      ],
      "metadata": {
        "id": "ewekoZIPh3Vz"
      }
    },
    {
      "cell_type": "code",
      "source": [
        "#code\n",
        "import numpy as np\n",
        "from sklearn.datasets import load_iris\n",
        "from sklearn.tree import DecisionTreeClassifier\n",
        "from sklearn.multiclass import OneVsRestClassifier\n",
        "from sklearn.model_selection import train_test_split\n",
        "from sklearn.metrics import accuracy_score, classification_report\n",
        "iris = load_iris()\n",
        "X = iris.data\n",
        "y = iris.target\n",
        "X_train, X_test, y_train, y_test = train_test_split(X, y, test_size=0.3, random_state=42)\n",
        "base_classifier = DecisionTreeClassifier(random_state=42)\n",
        "ovr_classifier = OneVsRestClassifier(base_classifier)\n",
        "ovr_classifier.fit(X_train, y_train)\n",
        "y_pred = ovr_classifier.predict(X_test)\n",
        "accuracy = accuracy_score(y_test, y_pred)\n",
        "report = classification_report(y_test, y_pred, target_names=iris.target_names)\n",
        "print(f\"Accuracy: {accuracy:.4f}\")\n",
        "print(\"\\nClassification Report:\")\n",
        "print(report)"
      ],
      "metadata": {
        "colab": {
          "base_uri": "https://localhost:8080/"
        },
        "id": "wWviKC_ShNct",
        "outputId": "a2669acd-4f4a-4bd4-c82e-33e6b21b91c7"
      },
      "execution_count": null,
      "outputs": [
        {
          "output_type": "stream",
          "name": "stdout",
          "text": [
            "Accuracy: 1.0000\n",
            "\n",
            "Classification Report:\n",
            "              precision    recall  f1-score   support\n",
            "\n",
            "      setosa       1.00      1.00      1.00        19\n",
            "  versicolor       1.00      1.00      1.00        13\n",
            "   virginica       1.00      1.00      1.00        13\n",
            "\n",
            "    accuracy                           1.00        45\n",
            "   macro avg       1.00      1.00      1.00        45\n",
            "weighted avg       1.00      1.00      1.00        45\n",
            "\n"
          ]
        }
      ]
    },
    {
      "cell_type": "markdown",
      "source": [
        "25.Write a Python program to train a Decision Tree Classifier and display the feature importance scores."
      ],
      "metadata": {
        "id": "PPLgwA9viDBa"
      }
    },
    {
      "cell_type": "code",
      "source": [
        "#code\n",
        "import pandas as pd\n",
        "from sklearn.tree import DecisionTreeClassifier\n",
        "from sklearn.model_selection import train_test_split\n",
        "from sklearn.datasets import load_iris\n",
        "iris = load_iris()\n",
        "X = pd.DataFrame(iris.data, columns=iris.feature_names)\n",
        "y = iris.target\n",
        "X_train, X_test, y_train, y_test = train_test_split(X, y, test_size=0.3, random_state=42)\n",
        "dtree = DecisionTreeClassifier(random_state=42)\n",
        "dtree.fit(X_train, y_train)\n",
        "feature_importances = dtree.feature_importances_\n",
        "importance_df = pd.DataFrame({\n",
        "    'Feature': X.columns,\n",
        "    'Importance': feature_importances\n",
        "})\n",
        "importance_df = importance_df.sort_values(by='Importance', ascending=False)\n",
        "print(\"Feature Importance Scores:\")\n",
        "print(importance_df)"
      ],
      "metadata": {
        "colab": {
          "base_uri": "https://localhost:8080/"
        },
        "id": "aywii2QEhNad",
        "outputId": "87b969d2-f423-4d85-f41f-8d8c2aba00d6"
      },
      "execution_count": null,
      "outputs": [
        {
          "output_type": "stream",
          "name": "stdout",
          "text": [
            "Feature Importance Scores:\n",
            "             Feature  Importance\n",
            "2  petal length (cm)    0.893264\n",
            "3   petal width (cm)    0.087626\n",
            "1   sepal width (cm)    0.019110\n",
            "0  sepal length (cm)    0.000000\n"
          ]
        }
      ]
    },
    {
      "cell_type": "markdown",
      "source": [
        "26.Write a Python program to train a Decision Tree Regressor with max_depth=5 and compare its performance\n",
        "with an unrestricted tree>"
      ],
      "metadata": {
        "id": "YDM5E311iNDC"
      }
    },
    {
      "cell_type": "code",
      "source": [
        "#code\n",
        "import numpy as np\n",
        "from sklearn.tree import DecisionTreeRegressor\n",
        "from sklearn.model_selection import train_test_split\n",
        "from sklearn.metrics import mean_squared_error\n",
        "np.random.seed(42)\n",
        "X = np.sort(5 * np.random.rand(80, 1), axis=0)\n",
        "y = np.sin(X).ravel() + np.random.normal(0, 0.1, X.shape[0])\n",
        "X_train, X_test, y_train, y_test = train_test_split(X, y, test_size=0.2, random_state=42)\n",
        "dt_regressor_limited = DecisionTreeRegressor(max_depth=5, random_state=42)\n",
        "dt_regressor_limited.fit(X_train, y_train)\n",
        "dt_regressor_unrestricted = DecisionTreeRegressor(random_state=42)\n",
        "dt_regressor_unrestricted.fit(X_train, y_train)\n",
        "y_pred_limited = dt_regressor_limited.predict(X_test)\n",
        "y_pred_unrestricted = dt_regressor_unrestricted.predict(X_test)\n",
        "mse_limited = mean_squared_error(y_test, y_pred_limited)\n",
        "mse_unrestricted = mean_squared_error(y_test, y_pred_unrestricted)\n",
        "print(f\"Mean Squared Error (max_depth=5): {mse_limited:.4f}\")\n",
        "print(f\"Mean Squared Error (Unrestricted Tree): {mse_unrestricted:.4f}\")"
      ],
      "metadata": {
        "colab": {
          "base_uri": "https://localhost:8080/"
        },
        "id": "OiOFcBpJhNVK",
        "outputId": "25a851dc-213d-47fd-b3fe-89d5ff2bb0b5"
      },
      "execution_count": null,
      "outputs": [
        {
          "output_type": "stream",
          "name": "stdout",
          "text": [
            "Mean Squared Error (max_depth=5): 0.0130\n",
            "Mean Squared Error (Unrestricted Tree): 0.0083\n"
          ]
        }
      ]
    },
    {
      "cell_type": "markdown",
      "source": [
        "27.Write a Python program to train a Decision Tree Classifier, apply Cost Complexity Pruning (CCP), and\n",
        "visualize its effect on accuracy."
      ],
      "metadata": {
        "id": "Id6GjkMWiYiR"
      }
    },
    {
      "cell_type": "code",
      "source": [
        "#code\n",
        "import matplotlib.pyplot as plt\n",
        "from sklearn.datasets import load_iris\n",
        "from sklearn.model_selection import train_test_split\n",
        "from sklearn.tree import DecisionTreeClassifier\n",
        "iris = load_iris()\n",
        "X, y = iris.data, iris.target\n",
        "X_train, X_test, y_train, y_test = train_test_split(X, y, random_state=0)\n",
        "clf_unpruned = DecisionTreeClassifier(random_state=0)\n",
        "clf_unpruned.fit(X_train, y_train)\n",
        "unpruned_accuracy = clf_unpruned.score(X_test, y_test)\n",
        "print(f\"Accuracy of unpruned tree: {unpruned_accuracy:.4f}\")\n",
        "path = clf_unpruned.cost_complexity_pruning_path(X_train, y_train)\n",
        "ccp_alphas, impurities = path.ccp_alphas, path.impurities\n",
        "clfs = []\n",
        "for ccp_alpha in ccp_alphas:\n",
        "    clf = DecisionTreeClassifier(random_state=0, ccp_alpha=ccp_alpha)\n",
        "    clf.fit(X_train, y_train)\n",
        "    clfs.append(clf)\n",
        "train_scores = [clf.score(X_train, y_train) for clf in clfs]\n",
        "test_scores = [clf.score(X_test, y_test) for clf in clfs]\n",
        "plt.figure(figsize=(10, 6))\n",
        "plt.plot(ccp_alphas, train_scores, marker='o', label=\"Training Accuracy\", drawstyle=\"steps-post\")\n",
        "plt.plot(ccp_alphas, test_scores, marker='o', label=\"Test Accuracy\", drawstyle=\"steps-post\")\n",
        "plt.xlabel(\"ccp_alpha\")\n",
        "plt.ylabel(\"Accuracy\")\n",
        "plt.title(\"Accuracy vs. ccp_alpha for Decision Tree Pruning\")\n",
        "plt.legend()\n",
        "plt.grid(True)\n",
        "plt.show()\n",
        "optimal_alpha_index = test_scores.index(max(test_scores))\n",
        "optimal_ccp_alpha = ccp_alphas[optimal_alpha_index]\n",
        "optimal_pruned_accuracy = test_scores[optimal_alpha_index]\n",
        "\n",
        "print(f\"Optimal ccp_alpha: {optimal_ccp_alpha:.4f}\")\n",
        "print(f\"Accuracy with optimal ccp_alpha: {optimal_pruned_accuracy:.4f}\")"
      ],
      "metadata": {
        "colab": {
          "base_uri": "https://localhost:8080/",
          "height": 618
        },
        "id": "gYvmqjEJhNSl",
        "outputId": "e4d843b5-e1f3-4e13-af35-1062b176e073"
      },
      "execution_count": null,
      "outputs": [
        {
          "output_type": "stream",
          "name": "stdout",
          "text": [
            "Accuracy of unpruned tree: 0.9737\n"
          ]
        },
        {
          "output_type": "display_data",
          "data": {
            "text/plain": [
              "<Figure size 1000x600 with 1 Axes>"
            ],
            "image/png": "[encoded data removed]"
          },
          "metadata": {}
        },
        {
          "output_type": "stream",
          "name": "stdout",
          "text": [
            "Optimal ccp_alpha: 0.0000\n",
            "Accuracy with optimal ccp_alpha: 0.9737\n"
          ]
        }
      ]
    },
    {
      "cell_type": "markdown",
      "source": [
        "28.Write a Python program to train a Decision Tree Classifier and evaluate its performance using Precision,\n",
        "Recall, and F1-Score."
      ],
      "metadata": {
        "id": "cNuUGkmSiodJ"
      }
    },
    {
      "cell_type": "code",
      "source": [
        "#code\n",
        "import pandas as pd\n",
        "from sklearn.datasets import load_iris\n",
        "from sklearn.model_selection import train_test_split\n",
        "from sklearn.tree import DecisionTreeClassifier\n",
        "from sklearn.metrics import precision_score, recall_score, f1_score, classification_report\n",
        "iris = load_iris()\n",
        "X = pd.DataFrame(iris.data, columns=iris.feature_names)\n",
        "y = iris.target\n",
        "X_train, X_test, y_train, y_test = train_test_split(X, y, test_size=0.3, random_state=42)\n",
        "dt_classifier = DecisionTreeClassifier(random_state=42, criterion='entropy')\n",
        "dt_classifier.fit(X_train, y_train)\n",
        "y_pred = dt_classifier.predict(X_test)\n",
        "precision = precision_score(y_test, y_pred, average='weighted')\n",
        "recall = recall_score(y_test, y_pred, average='weighted')\n",
        "f1 = f1_score(y_test, y_pred, average='weighted')\n",
        "print(f\"Precision: {precision:.4f}\")\n",
        "print(f\"Recall: {recall:.4f}\")\n",
        "print(f\"F1-Score: {f1:.4f}\")\n",
        "print(\"\\nClassification Report:\")\n",
        "print(classification_report(y_test, y_pred, target_names=iris.target_names))"
      ],
      "metadata": {
        "colab": {
          "base_uri": "https://localhost:8080/"
        },
        "id": "yR380vCDeR1I",
        "outputId": "dcd24f15-a5c5-4bfd-fdd7-1078362c0f98"
      },
      "execution_count": null,
      "outputs": [
        {
          "output_type": "stream",
          "name": "stdout",
          "text": [
            "Precision: 0.9794\n",
            "Recall: 0.9778\n",
            "F1-Score: 0.9777\n",
            "\n",
            "Classification Report:\n",
            "              precision    recall  f1-score   support\n",
            "\n",
            "      setosa       1.00      1.00      1.00        19\n",
            "  versicolor       0.93      1.00      0.96        13\n",
            "   virginica       1.00      0.92      0.96        13\n",
            "\n",
            "    accuracy                           0.98        45\n",
            "   macro avg       0.98      0.97      0.97        45\n",
            "weighted avg       0.98      0.98      0.98        45\n",
            "\n"
          ]
        }
      ]
    },
    {
      "cell_type": "markdown",
      "source": [
        "29.Write a Python program to train a Decision Tree Classifier and visualize the confusion matrix using seaborn."
      ],
      "metadata": {
        "id": "zfjDZwali0Zo"
      }
    },
    {
      "cell_type": "code",
      "source": [
        "#code\n",
        "import pandas as pd\n",
        "from sklearn.model_selection import train_test_split\n",
        "from sklearn.tree import DecisionTreeClassifier\n",
        "from sklearn.metrics import confusion_matrix\n",
        "import seaborn as sns\n",
        "import matplotlib.pyplot as plt\n",
        "data = {\n",
        "    'feature1': [1, 2, 3, 4, 5, 6, 7, 8, 9, 10],\n",
        "    'feature2': [10, 9, 8, 7, 6, 5, 4, 3, 2, 1],\n",
        "    'target': [0, 0, 0, 0, 1, 1, 1, 1, 1, 1]\n",
        "}\n",
        "df = pd.DataFrame(data)\n",
        "X = df[['feature1', 'feature2']]\n",
        "y = df['target']\n",
        "X_train, X_test, y_train, y_test = train_test_split(X, y, test_size=0.3, random_state=42)\n",
        "dt_classifier = DecisionTreeClassifier(random_state=42)\n",
        "dt_classifier.fit(X_train, y_train)\n",
        "y_pred = dt_classifier.predict(X_test)\n",
        "cm = confusion_matrix(y_test, y_pred)\n",
        "plt.figure(figsize=(6, 5))\n",
        "sns.heatmap(cm, annot=True, fmt='d', cmap='Blues', cbar=False,\n",
        "            xticklabels=['Predicted 0', 'Predicted 1'],\n",
        "            yticklabels=['Actual 0', 'Actual 1'])\n",
        "plt.xlabel('Predicted Label')\n",
        "plt.ylabel('True Label')\n",
        "plt.title('Confusion Matrix for Decision Tree Classifier')\n",
        "plt.show()"
      ],
      "metadata": {
        "colab": {
          "base_uri": "https://localhost:8080/",
          "height": 487
        },
        "id": "OQmDWT3Uix_z",
        "outputId": "a7a3b5a6-d555-4906-e9d7-e3de90f0cccf"
      },
      "execution_count": null,
      "outputs": [
        {
          "output_type": "display_data",
          "data": {
            "text/plain": [
              "<Figure size 600x500 with 1 Axes>"
            ],
            "image/png": "[encoded data removed]"
          },
          "metadata": {}
        }
      ]
    },
    {
      "cell_type": "markdown",
      "source": [
        "30.* Write a Python program to train a Decision Tree Classifier and use GridSearchCV to find the optimal values\n",
        "for max_depth and min_samples_split."
      ],
      "metadata": {
        "id": "-ZVyD08Ui-6Q"
      }
    },
    {
      "cell_type": "code",
      "source": [
        "#code\n",
        "from sklearn.tree import DecisionTreeClassifier\n",
        "from sklearn.model_selection import GridSearchCV, train_test_split\n",
        "from sklearn.datasets import load_iris\n",
        "\n",
        "# 1. Load a dataset (using the Iris dataset as an example)\n",
        "iris = load_iris()\n",
        "X = iris.data\n",
        "y = iris.target\n",
        "\n",
        "# 2. Split the data into training and testing sets\n",
        "X_train, X_test, y_train, y_test = train_test_split(X, y, test_size=0.3, random_state=42)\n",
        "\n",
        "# 3. Define the Decision Tree Classifier\n",
        "dtree = DecisionTreeClassifier(random_state=42)\n",
        "\n",
        "# 4. Define the parameter grid for GridSearchCV\n",
        "param_grid = {\n",
        "    'max_depth': [None, 3, 5, 7, 10],  # Max depth of the tree\n",
        "    'min_samples_split': [2, 5, 10, 20]\n",
        "}\n",
        "grid_search = GridSearchCV(estimator=dtree, param_grid=param_grid, cv=5, scoring='accuracy', verbose=1)\n",
        "grid_search.fit(X_train, y_train)\n",
        "print(f\"Best parameters found: {grid_search.best_params_}\")\n",
        "print(f\"Best cross-validation accuracy: {grid_search.best_score_:.4f}\")\n",
        "best_dtree = grid_search.best_estimator_\n",
        "test_accuracy = best_dtree.score(X_test, y_test)\n",
        "print(f\"Test set accuracy with optimal parameters: {test_accuracy:.4f}\")"
      ],
      "metadata": {
        "id": "93SUVBKoi86C"
      },
      "execution_count": null,
      "outputs": []
    }
  ]
}